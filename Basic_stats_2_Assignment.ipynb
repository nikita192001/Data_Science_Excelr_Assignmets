{
  "cells": [
    {
      "cell_type": "code",
      "execution_count": 1,
      "id": "cd7aafe1",
      "metadata": {
        "id": "cd7aafe1"
      },
      "outputs": [],
      "source": [
        "import numpy as np\n",
        "from scipy import stats"
      ]
    },
    {
      "cell_type": "code",
      "execution_count": 2,
      "id": "3303df92",
      "metadata": {
        "id": "3303df92"
      },
      "outputs": [],
      "source": [
        "data = [1.13, 1.55, 1.43, 0.92, 1.25, 1.36, 1.32, 0.85, 1.07, 1.48, 1.20, 1.33, 1.18, 1.22, 1.29]"
      ]
    },
    {
      "cell_type": "markdown",
      "id": "3e0da04c",
      "metadata": {
        "id": "3e0da04c"
      },
      "source": [
        "### Task a: Build 99% Confidence Interval Using Sample Standard Deviation"
      ]
    },
    {
      "cell_type": "code",
      "execution_count": 3,
      "id": "4b71fede",
      "metadata": {
        "id": "4b71fede"
      },
      "outputs": [],
      "source": [
        "n = len(data)"
      ]
    },
    {
      "cell_type": "code",
      "execution_count": 6,
      "id": "19e96eed",
      "metadata": {
        "colab": {
          "base_uri": "https://localhost:8080/"
        },
        "id": "19e96eed",
        "outputId": "348e7b6c-f49f-4ee5-9309-6378b413aecb"
      },
      "outputs": [
        {
          "output_type": "execute_result",
          "data": {
            "text/plain": [
              "1.2386666666666666"
            ]
          },
          "metadata": {},
          "execution_count": 6
        }
      ],
      "source": [
        "sample_mean = np.mean(data)\n",
        "sample_mean"
      ]
    },
    {
      "cell_type": "code",
      "execution_count": 8,
      "id": "c14d5443",
      "metadata": {
        "colab": {
          "base_uri": "https://localhost:8080/"
        },
        "id": "c14d5443",
        "outputId": "ec71591c-ed8a-4dbb-9ef4-6b21373a2340"
      },
      "outputs": [
        {
          "output_type": "execute_result",
          "data": {
            "text/plain": [
              "0.18661427836285438"
            ]
          },
          "metadata": {},
          "execution_count": 8
        }
      ],
      "source": [
        "sample_std = np.std(data)\n",
        "sample_std"
      ]
    },
    {
      "cell_type": "code",
      "execution_count": 12,
      "id": "57ad968f",
      "metadata": {
        "colab": {
          "base_uri": "https://localhost:8080/"
        },
        "id": "57ad968f",
        "outputId": "8b31576b-0cf2-44e9-b5cd-3a7f5ae8edbd"
      },
      "outputs": [
        {
          "output_type": "execute_result",
          "data": {
            "text/plain": [
              "2.624494067560231"
            ]
          },
          "metadata": {},
          "execution_count": 12
        }
      ],
      "source": [
        "t_value = stats.t.ppf(0.99, df=n-1)\n",
        "t_value"
      ]
    },
    {
      "cell_type": "code",
      "execution_count": 13,
      "id": "b89ce970",
      "metadata": {
        "id": "b89ce970"
      },
      "outputs": [],
      "source": [
        "margin_of_error = t_value * (sample_std / np.sqrt(n))"
      ]
    },
    {
      "cell_type": "code",
      "execution_count": 14,
      "id": "491609ea",
      "metadata": {
        "id": "491609ea"
      },
      "outputs": [],
      "source": [
        "CI_lower = sample_mean - margin_of_error\n",
        "CI_upper = sample_mean + margin_of_error"
      ]
    },
    {
      "cell_type": "code",
      "execution_count": 15,
      "id": "82ececaa",
      "metadata": {
        "colab": {
          "base_uri": "https://localhost:8080/"
        },
        "id": "82ececaa",
        "outputId": "ae3ab786-ce23-47a9-9ff6-a269d1bdea17"
      },
      "outputs": [
        {
          "output_type": "stream",
          "name": "stdout",
          "text": [
            "Task a: Confidence Interval Using Sample Standard Deviation\n",
            "Sample Mean: 1.239\n",
            "Sample Standard Deviation: 0.187\n",
            "T-value: 2.624\n",
            "Margin of Error: 0.126\n",
            "99% Confidence Interval: (1.112, 1.365)\n",
            "\n"
          ]
        }
      ],
      "source": [
        "print(\"Task a: Confidence Interval Using Sample Standard Deviation\")\n",
        "print(f\"Sample Mean: {sample_mean:.3f}\")\n",
        "print(f\"Sample Standard Deviation: {sample_std:.3f}\")\n",
        "print(f\"T-value: {t_value:.3f}\")\n",
        "print(f\"Margin of Error: {margin_of_error:.3f}\")\n",
        "print(f\"99% Confidence Interval: ({CI_lower:.3f}, {CI_upper:.3f})\")\n",
        "print()"
      ]
    },
    {
      "cell_type": "markdown",
      "id": "f3a2d05b",
      "metadata": {
        "id": "f3a2d05b"
      },
      "source": [
        "# Task b: Build 99% Confidence Interval Using Known Population Standard Deviation"
      ]
    },
    {
      "cell_type": "code",
      "execution_count": 16,
      "id": "0ee6c949",
      "metadata": {
        "id": "0ee6c949"
      },
      "outputs": [],
      "source": [
        "population_std = 0.2"
      ]
    },
    {
      "cell_type": "code",
      "execution_count": 19,
      "id": "e4b9ba6e",
      "metadata": {
        "colab": {
          "base_uri": "https://localhost:8080/"
        },
        "id": "e4b9ba6e",
        "outputId": "85b19162-8bb3-4768-b503-1234703e4646"
      },
      "outputs": [
        {
          "output_type": "execute_result",
          "data": {
            "text/plain": [
              "2.3263478740408408"
            ]
          },
          "metadata": {},
          "execution_count": 19
        }
      ],
      "source": [
        "z_value = stats.norm.ppf(0.99)\n",
        "z_value"
      ]
    },
    {
      "cell_type": "code",
      "execution_count": 20,
      "id": "fbe17ab4",
      "metadata": {
        "id": "fbe17ab4"
      },
      "outputs": [],
      "source": [
        "margin_of_error_known_pop = z_value * (population_std / np.sqrt(n))\n"
      ]
    },
    {
      "cell_type": "code",
      "execution_count": 21,
      "id": "4ae571df",
      "metadata": {
        "id": "4ae571df"
      },
      "outputs": [],
      "source": [
        "ci_lower_known_pop = sample_mean - margin_of_error_known_pop\n",
        "ci_upper_known_pop = sample_mean + margin_of_error_known_pop"
      ]
    },
    {
      "cell_type": "code",
      "execution_count": 22,
      "id": "8ada26f3",
      "metadata": {
        "colab": {
          "base_uri": "https://localhost:8080/"
        },
        "id": "8ada26f3",
        "outputId": "7f994ed9-2eae-4694-cae9-fed14e250f5f"
      },
      "outputs": [
        {
          "output_type": "stream",
          "name": "stdout",
          "text": [
            "Task b: Confidence Interval Using Known Population Standard Deviation\n",
            "Z-value: 2.326\n",
            "Margin of Error (Known Population SD): 0.120\n",
            "99% Confidence Interval: (1.119, 1.359)\n"
          ]
        }
      ],
      "source": [
        "print(\"Task b: Confidence Interval Using Known Population Standard Deviation\")\n",
        "print(f\"Z-value: {z_value:.3f}\")\n",
        "print(f\"Margin of Error (Known Population SD): {margin_of_error_known_pop:.3f}\")\n",
        "print(f\"99% Confidence Interval: ({ci_lower_known_pop:.3f}, {ci_upper_known_pop:.3f})\")"
      ]
    },
    {
      "cell_type": "code",
      "execution_count": null,
      "id": "2bc41411",
      "metadata": {
        "id": "2bc41411"
      },
      "outputs": [],
      "source": []
    }
  ],
  "metadata": {
    "kernelspec": {
      "display_name": "Python 3 (ipykernel)",
      "language": "python",
      "name": "python3"
    },
    "language_info": {
      "codemirror_mode": {
        "name": "ipython",
        "version": 3
      },
      "file_extension": ".py",
      "mimetype": "text/x-python",
      "name": "python",
      "nbconvert_exporter": "python",
      "pygments_lexer": "ipython3",
      "version": "3.11.5"
    },
    "colab": {
      "provenance": []
    }
  },
  "nbformat": 4,
  "nbformat_minor": 5
}